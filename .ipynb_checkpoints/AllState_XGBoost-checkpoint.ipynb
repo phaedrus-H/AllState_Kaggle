{
 "cells": [
  {
   "cell_type": "code",
   "execution_count": 2,
   "metadata": {
    "collapsed": false
   },
   "outputs": [],
   "source": [
    "#import necessary modules\n",
    "import pandas as pd\n",
    "import numpy as np\n",
    "import xgboost as xgb\n",
    "from xgboost import XGBRegressor\n",
    "from sklearn.metrics import mean_absolute_error"
   ]
  },
  {
   "cell_type": "code",
   "execution_count": 3,
   "metadata": {
    "collapsed": true
   },
   "outputs": [],
   "source": [
    "#define global variables\n",
    "ID = 'id'\n",
    "TARGET = 'loss'\n",
    "SEED = 0\n",
    "N_ESTIMATORS = 1000"
   ]
  },
  {
   "cell_type": "code",
   "execution_count": 4,
   "metadata": {
    "collapsed": false
   },
   "outputs": [
    {
     "name": "stdout",
     "output_type": "stream",
     "text": [
      "(188318, 132)\n",
      "(125546, 131)\n"
     ]
    }
   ],
   "source": [
    "#read data\n",
    "train = pd.read_csv(\"./input/train.csv\")\n",
    "test = pd.read_csv(\"./input/test.csv\")\n",
    "print(train.shape)\n",
    "print(test.shape)"
   ]
  },
  {
   "cell_type": "code",
   "execution_count": 32,
   "metadata": {
    "collapsed": false
   },
   "outputs": [
    {
     "name": "stdout",
     "output_type": "stream",
     "text": [
      "(141238, 132)\n",
      "(47080, 132)\n"
     ]
    }
   ],
   "source": [
    "#split data into train and test data\n",
    "N_TRAIN = 141238\n",
    "train = dataset[:N_TRAIN]\n",
    "test = dataset[N_TRAIN:]\n",
    "print(train.shape)\n",
    "print(test.shape)"
   ]
  },
  {
   "cell_type": "code",
   "execution_count": 33,
   "metadata": {
    "collapsed": true
   },
   "outputs": [],
   "source": [
    "#train = pd.read_csv(PATH_OF_TRAIN_DATASET)\n",
    "#test = pd.read_csv(PATH_OF_TEST_DATASET)\n",
    "#N_TRAIN = train.shape[0]"
   ]
  },
  {
   "cell_type": "code",
   "execution_count": 34,
   "metadata": {
    "collapsed": false
   },
   "outputs": [
    {
     "name": "stdout",
     "output_type": "stream",
     "text": [
      "(188318, 1153)\n"
     ]
    }
   ],
   "source": [
    "#Data preprocessing - One-Hot Encoding\n",
    "data = pd.concat((train,test), axis=0,ignore_index=True)\n",
    "loss_all = data[TARGET]\n",
    "id_all = data[ID]\n",
    "loss_all_backup = loss_all\n",
    "\n",
    "del data[TARGET]\n",
    "del data[ID]\n",
    "\n",
    "data = pd.get_dummies(data)\n",
    "print(data.shape)"
   ]
  },
  {
   "cell_type": "code",
   "execution_count": 35,
   "metadata": {
    "collapsed": false
   },
   "outputs": [
    {
     "name": "stdout",
     "output_type": "stream",
     "text": [
      "(141238, 1153)\n",
      "(47080, 1153)\n"
     ]
    }
   ],
   "source": [
    "#Process data for model\n",
    "x_train = np.array(data.iloc[:N_TRAIN,:])\n",
    "y_train = np.log(loss_all[:N_TRAIN].ravel())\n",
    "\n",
    "x_test = np.array(data.iloc[N_TRAIN:,:])\n",
    "y_test = np.log(loss_all[N_TRAIN:].ravel())\n",
    "\n",
    "print(x_train.shape)\n",
    "print(x_test.shape)"
   ]
  },
  {
   "cell_type": "code",
   "execution_count": 36,
   "metadata": {
    "collapsed": false
   },
   "outputs": [],
   "source": [
    "#split loss and id data\n",
    "loss_all = loss_all.to_frame()\n",
    "id_all = id_all.to_frame()\n",
    "loss_train = loss_all[:N_TRAIN]\n",
    "id_train = id_all[:N_TRAIN]\n",
    "\n",
    "loss_test = loss_all[N_TRAIN:]\n",
    "id_test = id_all[N_TRAIN:]"
   ]
  },
  {
   "cell_type": "code",
   "execution_count": 10,
   "metadata": {
    "collapsed": false
   },
   "outputs": [
    {
     "data": {
      "text/plain": [
       "XGBRegressor(base_score=0.5, colsample_bylevel=1, colsample_bytree=0.7,\n",
       "       gamma=0, learning_rate=0.075, max_delta_step=0, max_depth=6,\n",
       "       min_child_weight=1, missing=None, n_estimators=1000, nthread=-1,\n",
       "       objective='reg:linear', reg_alpha=0, reg_lambda=1,\n",
       "       scale_pos_weight=1, seed=0, silent=True, subsample=0.7)"
      ]
     },
     "execution_count": 10,
     "metadata": {},
     "output_type": "execute_result"
    }
   ],
   "source": [
    "#Define ML model and train\n",
    "model = XGBRegressor(n_estimators=N_ESTIMATORS,seed=SEED,max_depth=6,learning_rate=0.075,objective='reg:linear',colsample_bytree=0.7,subsample=0.7)\n",
    "model.fit(x_train,y_train)"
   ]
  },
  {
   "cell_type": "code",
   "execution_count": 11,
   "metadata": {
    "collapsed": false
   },
   "outputs": [
    {
     "name": "stdout",
     "output_type": "stream",
     "text": [
      "Training Set MEA = 1003.48592105\n",
      "Testing Set MEA = 1145.22727836\n"
     ]
    }
   ],
   "source": [
    "#Calculate MAE\n",
    "train_mae = mean_absolute_error(np.exp(y_train), np.exp(model.predict(x_train)))\n",
    "print(\"Training Set MEA = %s\" % train_mae)\n",
    "test_mae = mean_absolute_error(np.exp(y_test), np.exp(model.predict(x_test)))\n",
    "print(\"Testing Set MEA = %s\" % test_mae)"
   ]
  },
  {
   "cell_type": "code",
   "execution_count": 27,
   "metadata": {
    "collapsed": false
   },
   "outputs": [],
   "source": [
    "#Create file - test id + predicted loss\n",
    "submission = pd.DataFrame()\n",
    "pred = model.predict(x_test)\n",
    "submission[ID] = id_test[ID]\n",
    "submission[TARGET] = loss_test[TARGET]\n",
    "submission['predicted loss'] = np.exp(pred)\n",
    "submission.to_csv('Phaedrus_submission.csv', index=False)"
   ]
  },
  {
   "cell_type": "code",
   "execution_count": null,
   "metadata": {
    "collapsed": true
   },
   "outputs": [],
   "source": []
  }
 ],
 "metadata": {
  "anaconda-cloud": {},
  "kernelspec": {
   "display_name": "Python 3",
   "language": "python",
   "name": "python3"
  },
  "language_info": {
   "codemirror_mode": {
    "name": "ipython",
    "version": 3
   },
   "file_extension": ".py",
   "mimetype": "text/x-python",
   "name": "python",
   "nbconvert_exporter": "python",
   "pygments_lexer": "ipython3",
   "version": "3.5.2"
  }
 },
 "nbformat": 4,
 "nbformat_minor": 1
}
